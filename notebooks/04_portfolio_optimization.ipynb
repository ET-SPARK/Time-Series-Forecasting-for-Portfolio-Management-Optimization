{
 "cells": [
  {
   "cell_type": "markdown",
   "metadata": {},
   "source": [
    "# Task 4: Optimize Portfolio Based on Forecast"
   ]
  },
  {
   "cell_type": "code",
   "execution_count": null,
   "metadata": {},
   "outputs": [],
   "source": [
    "import pandas as pd\n",
    "import numpy as np\n",
    "import matplotlib.pyplot as plt\n",
    "from statsmodels.tsa.arima.model import ARIMA\n",
    "from pmdarima import auto_arima\n",
    "\n",
    "# Load the cleaned data\n",
    "tsla_df = pd.read_csv('../data/TSLA_cleaned.csv', index_col='Date', parse_dates=True)\n",
    "bnd_df = pd.read_csv('../data/BND_cleaned.csv', index_col='Date', parse_dates=True)\n",
    "spy_df = pd.read_csv('../data/SPY_cleaned.csv', index_col='Date', parse_dates=True)"
   ]
  },
  {
   "cell_type": "markdown",
   "metadata": {},
   "source": [
    "## 1. Calculate Expected Returns"
   ]
  },
  {
   "cell_type": "code",
   "execution_count": null,
   "metadata": {},
   "outputs": [],
   "source": [
    "# TSLA: Use the ARIMA forecast to get the expected return\n",
    "stepwise_fit = auto_arima(tsla_df['Close'], trace=False, suppress_warnings=True) # Re-running auto_arima to get the best order\n",
    "p, d, q = stepwise_fit.order\n",
    "model = ARIMA(tsla_df['Close'], order=(p, d, q))\n",
    "model_fit = model.fit()\n",
    "forecast = model_fit.forecast(steps=252) # 1 year forecast\n",
    "expected_return_tsla = (forecast.iloc[-1] - tsla_df['Close'].iloc[-1]) / tsla_df['Close'].iloc[-1]"
   ]
  },
  {
   "cell_type": "code",
   "execution_count": null,
   "metadata": {},
   "outputs": [],
   "source": [
    "# BND and SPY: Use historical average daily returns (annualized)\n",
    "returns_bnd = bnd_df['Close'].pct_change().dropna()\n",
    "returns_spy = spy_df['Close'].pct_change().dropna()\n",
    "expected_return_bnd = returns_bnd.mean() * 252\n",
    "expected_return_spy = returns_spy.mean() * 252"
   ]
  },
  {
   "cell_type": "code",
   "execution_count": null,
   "metadata": {},
   "outputs": [],
   "source": [
    "expected_returns = np.array([expected_return_tsla, expected_return_bnd, expected_return_spy])\n",
    "print(f'Expected Annual Returns:\nTSLA: {expected_return_tsla:.2%}\nBND: {expected_return_bnd:.2%}\nSPY: {expected_return_spy:.2%}')"
   ]
  },
  {
   "cell_type": "markdown",
   "metadata": {},
   "source": [
    "## 2. Calculate Covariance Matrix"
   ]
  },
  {
   "cell_type": "code",
   "execution_count": null,
   "metadata": {},
   "outputs": [],
   "source": [
    "returns_tsla = tsla_df['Close'].pct_change().dropna()\n",
    "returns_df = pd.concat([returns_tsla, returns_bnd, returns_spy], axis=1).dropna()\n",
    "returns_df.columns = ['TSLA', 'BND', 'SPY']\n",
    "cov_matrix = returns_df.cov() * 252"
   ]
  },
  {
   "cell_type": "markdown",
   "metadata": {},
   "source": [
    "## 3. Generate the Efficient Frontier"
   ]
  },
  {
   "cell_type": "code",
   "execution_count": null,
   "metadata": {},
   "outputs": [],
   "source": [
    "num_portfolios = 10000\n",
    "results = np.zeros((3, num_portfolios))\n",
    "weights_record = []\n",
    "for i in range(num_portfolios):\n",
    "    weights = np.random.random(3)\n",
    "    weights /= np.sum(weights)\n",
    "    weights_record.append(weights)\n",
    "    portfolio_return = np.sum(weights * expected_returns)\n",
    "    portfolio_stddev = np.sqrt(np.dot(weights.T, np.dot(cov_matrix, weights)))\n",
    "    results[0,i] = portfolio_return\n",
    "    results[1,i] = portfolio_stddev\n",
    "    results[2,i] = (portfolio_return - 0.02) / portfolio_stddev # Sharpe Ratio, assuming 2% risk-free rate\n",
    "\n",
    "results_frame = pd.DataFrame(results.T, columns=['ret','stdev','sharpe'])\n",
    "results_frame['weights'] = weights_record"
   ]
  },
  {
   "cell_type": "markdown",
   "metadata": {},
   "source": [
    "## 4. Identify Key Portfolios and Plot the Efficient Frontier"
   ]
  },
  {
   "cell_type": "code",
   "execution_count": null,
   "metadata": {},
   "outputs": [],
   "source": [
    "max_sharpe_port = results_frame.iloc[results_frame['sharpe'].idxmax()]\n",
    "min_vol_port = results_frame.iloc[results_frame['stdev'].idxmin()]"
   ]
  },
  {
   "cell_type": "code",
   "execution_count": null,
   "metadata": {},
   "outputs": [],
   "source": [
    "plt.figure(figsize=(14, 7))\n",
    "plt.scatter(results_frame.stdev, results_frame.ret, c=results_frame.sharpe, cmap='viridis')\n",
    "plt.colorbar(label='Sharpe Ratio')\n",
    "plt.xlabel('Volatility')\n",
    "plt.ylabel('Return')\n",
    "plt.scatter(max_sharpe_port['stdev'], max_sharpe_port['ret'], marker='*', color='r', s=500, label='Maximum Sharpe Ratio')\n",
    "plt.scatter(min_vol_port['stdev'], min_vol_port['ret'], marker='*', color='g', s=500, label='Minimum Volatility')\n",
    "plt.title('Efficient Frontier')\n",
    "plt.legend()\n",
    "plt.show()"
   ]
  },
  {
   "cell_type": "markdown",
   "metadata": {},
   "source": [
    "## 5. Recommend an Optimal Portfolio"
   ]
  },
  {
   "cell_type": "code",
   "execution_count": null,
   "metadata": {},
   "outputs": [],
   "source": [
    "print(\"Maximum Sharpe Ratio Portfolio:\")\n",
    "print(f\"Weights: TSLA={max_sharpe_port['weights'][0]:.2%}, BND={max_sharpe_port['weights'][1]:.2%}, SPY={max_sharpe_port['weights'][2]:.2%}\")\n",
    "print(f\"Expected Annual Return: {max_sharpe_port['ret']:.2%}\")\n",
    "print(f\"Expected Annual Volatility: {max_sharpe_port['stdev']:.2%}\")\n",
    "print(f\"Sharpe Ratio: {max_sharpe_port['sharpe']:.2f}\")\n",
    "\n",
    "print(\"Minimum Volatility Portfolio:\")\n",
    "print(f\"Weights: TSLA={min_vol_port['weights'][0]:.2%}, BND={min_vol_port['weights'][1]:.2%}, SPY={min_vol_port['weights'][2]:.2%}\")\n",
    "print(f\"Expected Annual Return: {min_vol_port['ret']:.2%}\")\n",
    "print(f\"Expected Annual Volatility: {min_vol_port['stdev']:.2%}\")\n",
    "print(f\"Sharpe Ratio: {min_vol_port['sharpe']:.2f}\")"
   ]
  },
  {
   "cell_type": "markdown",
   "metadata": {},
   "source": [
    "### Recommendation\n",
    "For an investor seeking the highest risk-adjusted return, the **Maximum Sharpe Ratio Portfolio** is the recommended choice. This portfolio provides the best return for the amount of risk taken.\n",
    "\n",
    "For a more risk-averse investor, the **Minimum Volatility Portfolio** would be more suitable, as it is designed to minimize risk, albeit with a lower expected return."
   ]
  }
 ],
 "metadata": {
  "kernelspec": {
   "display_name": "Python 3",
   "language": "python",
   "name": "python3"
  },
  "language_info": {
   "codemirror_mode": {
    "name": "ipython",
    "version": 3
   },
   "file_extension": ".py",
   "mimetype": "text/x-python",
   "name": "python",
   "nbconvert_exporter": "python",
   "pygments_lexer": "ipython3",
   "version": "3.12.2"
  }
 },
 "nbformat": 4,
 "nbformat_minor": 2
}
